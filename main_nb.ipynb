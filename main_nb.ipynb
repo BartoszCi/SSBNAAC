{
 "metadata": {
  "language_info": {
   "codemirror_mode": {
    "name": "ipython",
    "version": 3
   },
   "file_extension": ".py",
   "mimetype": "text/x-python",
   "name": "python",
   "nbconvert_exporter": "python",
   "pygments_lexer": "ipython3",
   "version": "3.9.1-final"
  },
  "orig_nbformat": 2,
  "kernelspec": {
   "name": "python3",
   "display_name": "Python 3.9.1 64-bit",
   "metadata": {
    "interpreter": {
     "hash": "aee8b7b246df8f9039afb4144a1f6fd8d2ca17a180786b69acc140d282b71a49"
    }
   }
  }
 },
 "nbformat": 4,
 "nbformat_minor": 2,
 "cells": [
  {
   "cell_type": "code",
   "execution_count": 83,
   "metadata": {},
   "outputs": [],
   "source": [
    "import itertools\n",
    "import requests\n",
    "import datetime\n",
    "import re\n",
    "import json\n",
    "import collections"
   ]
  },
  {
   "cell_type": "code",
   "execution_count": 84,
   "metadata": {},
   "outputs": [],
   "source": [
    "class TimeSeries():\n",
    "    def __init__(self, code, index, values):\n",
    "        self.code = code\n",
    "        self.index = index\n",
    "        self.values = values"
   ]
  },
  {
   "cell_type": "code",
   "execution_count": 103,
   "metadata": {},
   "outputs": [],
   "source": [
    "class SSBData():\n",
    "    url_start = r'https://data.ssb.no/api/v0/en/table/'\n",
    "\n",
    "    def __init__(self, table_id, query_patch):\n",
    "        self.table_id = table_id\n",
    "        self.meta = self._get_api_params(query_patch)\n",
    "        self.content = self._get_data_from_api(self.url_start + table_id, self.meta)\n",
    "        self.shape = self._get_shape(self.content['size'])\n",
    "        self.categories = self._extract_categories(self.content['id'])\n",
    "        self.columns = self._extract_columns()\n",
    "\n",
    "    def _extract_categories(self, catego):\n",
    "        catego.remove('Tid')\n",
    "        #catego.sort(key=lambda x: 0 if re.search(r'^Content', str(x), re.I) else 1)\n",
    "        return catego \n",
    "\n",
    "    def _extract_columns(self):\n",
    "        out = {}\n",
    "        for cate in self.categories:\n",
    "            out[cate] = {}\n",
    "            for k, v in self.content['dimension'][cate]['category']['label'].items():\n",
    "                out[cate][k] = v\n",
    "        return out\n",
    "\n",
    "    def _get_shape(self, size):\n",
    "            out = {'Category ' + str(i): v for i, v in enumerate(size[:-1])}\n",
    "            out['index'] = size[-1]\n",
    "            return out\n",
    "\n",
    "    def _get_api_params(self, patch):\n",
    "        with open(patch, 'r', encoding='UTF-8') as j_f:\n",
    "            return json.load(j_f)\n",
    "\n",
    "    def _get_data_from_api(self, url, params):\n",
    "        raw_data = requests.post(url, json=params)\n",
    "        return json.loads(raw_data.content)\n",
    "\n",
    "    def _parse_date(self, date, freq):\n",
    "        repl = {'quarter': {'1': 1,\n",
    "                            '2': 4, \n",
    "                            '3': 7, \n",
    "                            '4': 10}}\n",
    "        d_temp = date.split('K')\n",
    "        return datetime.date(int(d_temp[0]), repl[freq][d_temp[1]], 1)\n",
    "\n",
    "    def get_index(self):\n",
    "        frequency = self.content['dimension']['Tid']['label']\n",
    "        dates = self.content['dimension']['Tid']['category']['index']\n",
    "        return {v: self._parse_date(k, frequency) for k, v in dates.items()}\n",
    "\n",
    "    def iter_columns(self):\n",
    "        categories = [[val for val in self.columns[cat]] for cat in self.columns]\n",
    "        yield from itertools.product(*categories, repeat=1)\n",
    "\n",
    "    def iter_values(self):\n",
    "        vals = self.content['value']\n",
    "        for val in vals:\n",
    "            yield val\n",
    "\n",
    "    def serialize(self):\n",
    "        idx = self.get_index()\n",
    "        cols = self.iter_columns()\n",
    "        vals = self.iter_values()\n",
    "        out = collections.defaultdict(list)\n",
    "        for col_name in cols:\n",
    "            for _ in idx:\n",
    "                out[col_name].append(next(vals))\n",
    "        return out"
   ]
  },
  {
   "cell_type": "code",
   "execution_count": 104,
   "metadata": {},
   "outputs": [],
   "source": [
    "ob = SSBData('09171', 'tab_09171.json')"
   ]
  },
  {
   "cell_type": "code",
   "execution_count": 107,
   "metadata": {},
   "outputs": [],
   "source": [
    "dane = ob.serialize()"
   ]
  },
  {
   "cell_type": "code",
   "execution_count": 108,
   "metadata": {},
   "outputs": [],
   "source": [
    "import pandas as pd"
   ]
  },
  {
   "cell_type": "code",
   "execution_count": 113,
   "metadata": {},
   "outputs": [],
   "source": [
    "df = pd.DataFrame(dane, index=ob.get_index().values())"
   ]
  },
  {
   "cell_type": "code",
   "execution_count": 115,
   "metadata": {},
   "outputs": [
    {
     "output_type": "execute_result",
     "data": {
      "text/plain": [
       "             nr23_6                 pub2X01_02              pub2X03         \\\n",
       "               Prob     Pin    BNPB       Prob   Pin   BNPB    Prob    Pin   \n",
       "2019-10-01  1590874  761709  829165      10348  5039   5309   30455  17926   \n",
       "2020-01-01  1534042  732772  801269       9543  4860   4683   29182  14994   \n",
       "2020-04-01  1355521  663782  691740       9811  9998   -187   24700  14174   \n",
       "2020-07-01  1383458  664331  719126      19172  6886  12286   23661  16296   \n",
       "2020-10-01  1535161  737733  797428      10120  4902   5219   27867  18803   \n",
       "\n",
       "                   \n",
       "             BNPB  \n",
       "2019-10-01  12529  \n",
       "2020-01-01  14188  \n",
       "2020-04-01  10526  \n",
       "2020-07-01   7365  \n",
       "2020-10-01   9064  "
      ],
      "text/html": "<div>\n<style scoped>\n    .dataframe tbody tr th:only-of-type {\n        vertical-align: middle;\n    }\n\n    .dataframe tbody tr th {\n        vertical-align: top;\n    }\n\n    .dataframe thead tr th {\n        text-align: left;\n    }\n</style>\n<table border=\"1\" class=\"dataframe\">\n  <thead>\n    <tr>\n      <th></th>\n      <th colspan=\"3\" halign=\"left\">nr23_6</th>\n      <th colspan=\"3\" halign=\"left\">pub2X01_02</th>\n      <th colspan=\"3\" halign=\"left\">pub2X03</th>\n    </tr>\n    <tr>\n      <th></th>\n      <th>Prob</th>\n      <th>Pin</th>\n      <th>BNPB</th>\n      <th>Prob</th>\n      <th>Pin</th>\n      <th>BNPB</th>\n      <th>Prob</th>\n      <th>Pin</th>\n      <th>BNPB</th>\n    </tr>\n  </thead>\n  <tbody>\n    <tr>\n      <th>2019-10-01</th>\n      <td>1590874</td>\n      <td>761709</td>\n      <td>829165</td>\n      <td>10348</td>\n      <td>5039</td>\n      <td>5309</td>\n      <td>30455</td>\n      <td>17926</td>\n      <td>12529</td>\n    </tr>\n    <tr>\n      <th>2020-01-01</th>\n      <td>1534042</td>\n      <td>732772</td>\n      <td>801269</td>\n      <td>9543</td>\n      <td>4860</td>\n      <td>4683</td>\n      <td>29182</td>\n      <td>14994</td>\n      <td>14188</td>\n    </tr>\n    <tr>\n      <th>2020-04-01</th>\n      <td>1355521</td>\n      <td>663782</td>\n      <td>691740</td>\n      <td>9811</td>\n      <td>9998</td>\n      <td>-187</td>\n      <td>24700</td>\n      <td>14174</td>\n      <td>10526</td>\n    </tr>\n    <tr>\n      <th>2020-07-01</th>\n      <td>1383458</td>\n      <td>664331</td>\n      <td>719126</td>\n      <td>19172</td>\n      <td>6886</td>\n      <td>12286</td>\n      <td>23661</td>\n      <td>16296</td>\n      <td>7365</td>\n    </tr>\n    <tr>\n      <th>2020-10-01</th>\n      <td>1535161</td>\n      <td>737733</td>\n      <td>797428</td>\n      <td>10120</td>\n      <td>4902</td>\n      <td>5219</td>\n      <td>27867</td>\n      <td>18803</td>\n      <td>9064</td>\n    </tr>\n  </tbody>\n</table>\n</div>"
     },
     "metadata": {},
     "execution_count": 115
    }
   ],
   "source": [
    "df"
   ]
  },
  {
   "cell_type": "code",
   "execution_count": null,
   "metadata": {},
   "outputs": [],
   "source": []
  }
 ]
}