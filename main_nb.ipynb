{
 "metadata": {
  "language_info": {
   "codemirror_mode": {
    "name": "ipython",
    "version": 3
   },
   "file_extension": ".py",
   "mimetype": "text/x-python",
   "name": "python",
   "nbconvert_exporter": "python",
   "pygments_lexer": "ipython3",
   "version": "3.9.1-final"
  },
  "orig_nbformat": 2,
  "kernelspec": {
   "name": "python3",
   "display_name": "Python 3.9.1 64-bit ('py39': conda)",
   "metadata": {
    "interpreter": {
     "hash": "e846c59fdea23ebba84e68c915641a661f53deb5f4bee3e2194ed4dc4cf9f63a"
    }
   }
  }
 },
 "nbformat": 4,
 "nbformat_minor": 2,
 "cells": [
  {
   "cell_type": "code",
   "execution_count": 1,
   "metadata": {},
   "outputs": [],
   "source": [
    "import itertools\n",
    "import requests\n",
    "import datetime\n",
    "import re\n",
    "import json\n",
    "import collections"
   ]
  },
  {
   "cell_type": "code",
   "execution_count": 40,
   "metadata": {},
   "outputs": [],
   "source": [
    "class SSBData():\n",
    "    \"\"\"Pull data from ssb.no and parse to user friendly format\"\"\"\n",
    "\n",
    "    url_start = r'https://data.ssb.no/api/v0/en/table/'\n",
    "\n",
    "    def __init__(self, table_id, query_patch):\n",
    "        self.table_id = table_id\n",
    "        self._query_json = self._get_api_params(query_patch)\n",
    "        self._content = self._get_data_from_api(self.url_start + table_id, self._query_json)\n",
    "\n",
    "    @property\n",
    "    def content(self):\n",
    "        return self._content\n",
    "\n",
    "    @property\n",
    "    def shape(self):\n",
    "        out = {'Category ' + str(i): v for i, v in enumerate(self._content['size'][:-1])}\n",
    "        out['Index: '] = self._content['size'][-1]\n",
    "        return out\n",
    "\n",
    "    @property\n",
    "    def categories(self):\n",
    "        catego = self._content['id'][::]\n",
    "        catego.remove('Tid')\n",
    "        return catego \n",
    "\n",
    "    @property\n",
    "    def columns(self):\n",
    "        out = {}\n",
    "        for cate in self.categories:\n",
    "            out[cate] = {}\n",
    "            for k, v in self._content['dimension'][cate]['category']['label'].items():\n",
    "                out[cate][k] = v\n",
    "        return out\n",
    "\n",
    "    def _get_api_params(self, patch):\n",
    "        with open(patch, 'r', encoding='UTF-8') as j_f:\n",
    "            return json.load(j_f)\n",
    "\n",
    "    def _get_data_from_api(self, url, params):\n",
    "        raw_data = requests.post(url, json=params)\n",
    "        return json.loads(raw_data.content)\n",
    "\n",
    "    def _parse_date(self, date, freq):\n",
    "        repl = {'quarter': {'1': 1,\n",
    "                            '2': 4, \n",
    "                            '3': 7, \n",
    "                            '4': 10}}\n",
    "        d_temp = date.split('K')\n",
    "        return datetime.date(int(d_temp[0]), repl[freq][d_temp[1]], 1)\n",
    "\n",
    "    @property\n",
    "    def index(self):\n",
    "        frequency = self._content['dimension']['Tid']['label']\n",
    "        dates = self._content['dimension']['Tid']['category']['index']\n",
    "        return {v: self._parse_date(k, frequency) for k, v in dates.items()}\n",
    "\n",
    "    def iter_columns(self):\n",
    "        meta = self.columns\n",
    "        categories = [[val for val in meta[cat]] for cat in meta]\n",
    "        yield from itertools.product(*categories, repeat=1)\n",
    "\n",
    "    def iter_values(self):\n",
    "        vals = self._content['value']\n",
    "        for val in vals:\n",
    "            yield val\n",
    "\n",
    "    def serialize(self):\n",
    "        idx = self.index\n",
    "        cols = self.iter_columns()\n",
    "        vals = self.iter_values()\n",
    "        out = collections.defaultdict(list)\n",
    "        for col_name in cols:\n",
    "            for _ in idx:\n",
    "                out[col_name].append(next(vals))\n",
    "        return out"
   ]
  },
  {
   "cell_type": "code",
   "execution_count": 41,
   "metadata": {},
   "outputs": [],
   "source": [
    "ob = SSBData('09171', 'tab_09171.json')"
   ]
  },
  {
   "cell_type": "code",
   "execution_count": 44,
   "metadata": {},
   "outputs": [
    {
     "output_type": "execute_result",
     "data": {
      "text/plain": [
       "defaultdict(list,\n",
       "            {('nr23_6', 'Prob'): [1590874, 1534042, 1355521, 1383458, 1535161],\n",
       "             ('nr23_6', 'Pin'): [761709, 732772, 663782, 664331, 737733],\n",
       "             ('nr23_6', 'BNPB'): [829165, 801269, 691740, 719126, 797428],\n",
       "             ('pub2X01_02', 'Prob'): [10348, 9543, 9811, 19172, 10120],\n",
       "             ('pub2X01_02', 'Pin'): [5039, 4860, 9998, 6886, 4902],\n",
       "             ('pub2X01_02', 'BNPB'): [5309, 4683, -187, 12286, 5219],\n",
       "             ('pub2X03', 'Prob'): [30455, 29182, 24700, 23661, 27867],\n",
       "             ('pub2X03', 'Pin'): [17926, 14994, 14174, 16296, 18803],\n",
       "             ('pub2X03', 'BNPB'): [12529, 14188, 10526, 7365, 9064]})"
      ]
     },
     "metadata": {},
     "execution_count": 44
    }
   ],
   "source": [
    "ob.serialize()"
   ]
  },
  {
   "cell_type": "code",
   "execution_count": 45,
   "metadata": {},
   "outputs": [],
   "source": [
    "dane = ob.serialize()"
   ]
  },
  {
   "cell_type": "code",
   "execution_count": 46,
   "metadata": {},
   "outputs": [],
   "source": [
    "import pandas as pd"
   ]
  },
  {
   "cell_type": "code",
   "execution_count": 49,
   "metadata": {},
   "outputs": [],
   "source": [
    "df = pd.DataFrame(dane, index=ob.index.values())"
   ]
  },
  {
   "cell_type": "code",
   "execution_count": 50,
   "metadata": {},
   "outputs": [
    {
     "output_type": "execute_result",
     "data": {
      "text/plain": [
       "             nr23_6                 pub2X01_02              pub2X03         \\\n",
       "               Prob     Pin    BNPB       Prob   Pin   BNPB    Prob    Pin   \n",
       "2019-10-01  1590874  761709  829165      10348  5039   5309   30455  17926   \n",
       "2020-01-01  1534042  732772  801269       9543  4860   4683   29182  14994   \n",
       "2020-04-01  1355521  663782  691740       9811  9998   -187   24700  14174   \n",
       "2020-07-01  1383458  664331  719126      19172  6886  12286   23661  16296   \n",
       "2020-10-01  1535161  737733  797428      10120  4902   5219   27867  18803   \n",
       "\n",
       "                   \n",
       "             BNPB  \n",
       "2019-10-01  12529  \n",
       "2020-01-01  14188  \n",
       "2020-04-01  10526  \n",
       "2020-07-01   7365  \n",
       "2020-10-01   9064  "
      ],
      "text/html": "<div>\n<style scoped>\n    .dataframe tbody tr th:only-of-type {\n        vertical-align: middle;\n    }\n\n    .dataframe tbody tr th {\n        vertical-align: top;\n    }\n\n    .dataframe thead tr th {\n        text-align: left;\n    }\n</style>\n<table border=\"1\" class=\"dataframe\">\n  <thead>\n    <tr>\n      <th></th>\n      <th colspan=\"3\" halign=\"left\">nr23_6</th>\n      <th colspan=\"3\" halign=\"left\">pub2X01_02</th>\n      <th colspan=\"3\" halign=\"left\">pub2X03</th>\n    </tr>\n    <tr>\n      <th></th>\n      <th>Prob</th>\n      <th>Pin</th>\n      <th>BNPB</th>\n      <th>Prob</th>\n      <th>Pin</th>\n      <th>BNPB</th>\n      <th>Prob</th>\n      <th>Pin</th>\n      <th>BNPB</th>\n    </tr>\n  </thead>\n  <tbody>\n    <tr>\n      <th>2019-10-01</th>\n      <td>1590874</td>\n      <td>761709</td>\n      <td>829165</td>\n      <td>10348</td>\n      <td>5039</td>\n      <td>5309</td>\n      <td>30455</td>\n      <td>17926</td>\n      <td>12529</td>\n    </tr>\n    <tr>\n      <th>2020-01-01</th>\n      <td>1534042</td>\n      <td>732772</td>\n      <td>801269</td>\n      <td>9543</td>\n      <td>4860</td>\n      <td>4683</td>\n      <td>29182</td>\n      <td>14994</td>\n      <td>14188</td>\n    </tr>\n    <tr>\n      <th>2020-04-01</th>\n      <td>1355521</td>\n      <td>663782</td>\n      <td>691740</td>\n      <td>9811</td>\n      <td>9998</td>\n      <td>-187</td>\n      <td>24700</td>\n      <td>14174</td>\n      <td>10526</td>\n    </tr>\n    <tr>\n      <th>2020-07-01</th>\n      <td>1383458</td>\n      <td>664331</td>\n      <td>719126</td>\n      <td>19172</td>\n      <td>6886</td>\n      <td>12286</td>\n      <td>23661</td>\n      <td>16296</td>\n      <td>7365</td>\n    </tr>\n    <tr>\n      <th>2020-10-01</th>\n      <td>1535161</td>\n      <td>737733</td>\n      <td>797428</td>\n      <td>10120</td>\n      <td>4902</td>\n      <td>5219</td>\n      <td>27867</td>\n      <td>18803</td>\n      <td>9064</td>\n    </tr>\n  </tbody>\n</table>\n</div>"
     },
     "metadata": {},
     "execution_count": 50
    }
   ],
   "source": [
    "df"
   ]
  },
  {
   "cell_type": "code",
   "execution_count": null,
   "metadata": {},
   "outputs": [],
   "source": []
  }
 ]
}