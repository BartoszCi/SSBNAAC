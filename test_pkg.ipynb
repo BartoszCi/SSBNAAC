{
 "metadata": {
  "language_info": {
   "codemirror_mode": {
    "name": "ipython",
    "version": 3
   },
   "file_extension": ".py",
   "mimetype": "text/x-python",
   "name": "python",
   "nbconvert_exporter": "python",
   "pygments_lexer": "ipython3",
   "version": "3.9.1"
  },
  "orig_nbformat": 2,
  "kernelspec": {
   "name": "python391jvsc74a57bd0e846c59fdea23ebba84e68c915641a661f53deb5f4bee3e2194ed4dc4cf9f63a",
   "display_name": "Python 3.9.1 64-bit ('py39': conda)"
  }
 },
 "nbformat": 4,
 "nbformat_minor": 2,
 "cells": [
  {
   "cell_type": "code",
   "execution_count": 3,
   "metadata": {},
   "outputs": [],
   "source": [
    "import pandas as pd\n",
    "import sqlalchemy as sa\n",
    "import psycopg2\n",
    "\n",
    "import ssbfromapi\n",
    "import ssbintotable"
   ]
  },
  {
   "cell_type": "code",
   "execution_count": 4,
   "metadata": {},
   "outputs": [],
   "source": [
    "ob = ssbfromapi.SSBData('09171', 'tab_09171.json')"
   ]
  },
  {
   "cell_type": "code",
   "execution_count": 5,
   "metadata": {},
   "outputs": [],
   "source": [
    "df = pd.DataFrame(ob.serialize(), index=ob.index.values())"
   ]
  },
  {
   "cell_type": "code",
   "execution_count": 6,
   "metadata": {},
   "outputs": [
    {
     "output_type": "execute_result",
     "data": {
      "text/plain": [
       "             nr23_6                 pub2X01_02              pub2X03         \\\n",
       "               Prob     Pin    BNPB       Prob   Pin   BNPB    Prob    Pin   \n",
       "2019-10-01  1590874  761709  829165      10348  5039   5309   30455  17926   \n",
       "2020-01-01  1534042  732772  801269       9543  4860   4683   29182  14994   \n",
       "2020-04-01  1355521  663782  691740       9811  9998   -187   24700  14174   \n",
       "2020-07-01  1383458  664331  719126      19172  6886  12286   23661  16296   \n",
       "2020-10-01  1535161  737733  797428      10120  4902   5219   27867  18803   \n",
       "\n",
       "                   \n",
       "             BNPB  \n",
       "2019-10-01  12529  \n",
       "2020-01-01  14188  \n",
       "2020-04-01  10526  \n",
       "2020-07-01   7365  \n",
       "2020-10-01   9064  "
      ],
      "text/html": "<div>\n<style scoped>\n    .dataframe tbody tr th:only-of-type {\n        vertical-align: middle;\n    }\n\n    .dataframe tbody tr th {\n        vertical-align: top;\n    }\n\n    .dataframe thead tr th {\n        text-align: left;\n    }\n</style>\n<table border=\"1\" class=\"dataframe\">\n  <thead>\n    <tr>\n      <th></th>\n      <th colspan=\"3\" halign=\"left\">nr23_6</th>\n      <th colspan=\"3\" halign=\"left\">pub2X01_02</th>\n      <th colspan=\"3\" halign=\"left\">pub2X03</th>\n    </tr>\n    <tr>\n      <th></th>\n      <th>Prob</th>\n      <th>Pin</th>\n      <th>BNPB</th>\n      <th>Prob</th>\n      <th>Pin</th>\n      <th>BNPB</th>\n      <th>Prob</th>\n      <th>Pin</th>\n      <th>BNPB</th>\n    </tr>\n  </thead>\n  <tbody>\n    <tr>\n      <th>2019-10-01</th>\n      <td>1590874</td>\n      <td>761709</td>\n      <td>829165</td>\n      <td>10348</td>\n      <td>5039</td>\n      <td>5309</td>\n      <td>30455</td>\n      <td>17926</td>\n      <td>12529</td>\n    </tr>\n    <tr>\n      <th>2020-01-01</th>\n      <td>1534042</td>\n      <td>732772</td>\n      <td>801269</td>\n      <td>9543</td>\n      <td>4860</td>\n      <td>4683</td>\n      <td>29182</td>\n      <td>14994</td>\n      <td>14188</td>\n    </tr>\n    <tr>\n      <th>2020-04-01</th>\n      <td>1355521</td>\n      <td>663782</td>\n      <td>691740</td>\n      <td>9811</td>\n      <td>9998</td>\n      <td>-187</td>\n      <td>24700</td>\n      <td>14174</td>\n      <td>10526</td>\n    </tr>\n    <tr>\n      <th>2020-07-01</th>\n      <td>1383458</td>\n      <td>664331</td>\n      <td>719126</td>\n      <td>19172</td>\n      <td>6886</td>\n      <td>12286</td>\n      <td>23661</td>\n      <td>16296</td>\n      <td>7365</td>\n    </tr>\n    <tr>\n      <th>2020-10-01</th>\n      <td>1535161</td>\n      <td>737733</td>\n      <td>797428</td>\n      <td>10120</td>\n      <td>4902</td>\n      <td>5219</td>\n      <td>27867</td>\n      <td>18803</td>\n      <td>9064</td>\n    </tr>\n  </tbody>\n</table>\n</div>"
     },
     "metadata": {},
     "execution_count": 6
    }
   ],
   "source": [
    "df"
   ]
  },
  {
   "cell_type": "code",
   "execution_count": 7,
   "metadata": {},
   "outputs": [],
   "source": [
    "engi = sa.create_engine(r'postgresql+psycopg2:///barc')"
   ]
  },
  {
   "cell_type": "code",
   "execution_count": 8,
   "metadata": {},
   "outputs": [],
   "source": [
    "with sa.orm.Session(engi) as ses:\n",
    "    records = ob.iter_records()\n",
    "    for idx, col, val in records:\n",
    "        rec = ssbintotable.NaacTable(idx, col, val)\n",
    "        ses.add(rec)\n",
    "    ses.commit()"
   ]
  }
 ]
}